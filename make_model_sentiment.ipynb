{
 "cells": [
  {
   "cell_type": "code",
   "execution_count": 28,
   "metadata": {},
   "outputs": [],
   "source": [
    "import lightgbm as lgb\n",
    "from sklearn.metrics import accuracy_score\n",
    "from sklearn.model_selection import train_test_split\n",
    "from sklearn import preprocessing\n",
    "from sklearn.utils import shuffle\n",
    "import numpy as np\n",
    "import pandas as pd\n",
    "import emoji\n",
    "import matplotlib.pyplot as plt\n",
    "from sklearn.metrics import confusion_matrix\n",
    "import itertools\n",
    "%matplotlib inline\n",
    "from vaderSentiment.vaderSentiment import SentimentIntensityAnalyzer\n",
    "from sklearn.feature_extraction.text import TfidfVectorizer, CountVectorizer\n",
    "from scipy.sparse import hstack, csr_matrix, vstack\n",
    "import pickle as pickle\n",
    "analyzer_emoji = SentimentIntensityAnalyzer()"
   ]
  },
  {
   "cell_type": "markdown",
   "metadata": {},
   "source": [
    "### Load data"
   ]
  },
  {
   "cell_type": "code",
   "execution_count": 3,
   "metadata": {},
   "outputs": [],
   "source": [
    "train_df = pd.read_csv(\"./data/train.csv\")\n",
    "train_df = shuffle(train_df)\n",
    "# test set don't have label\n",
    "test_df = pd.read_csv(\"./data/test.csv\")"
   ]
  },
  {
   "cell_type": "code",
   "execution_count": 4,
   "metadata": {},
   "outputs": [
    {
     "data": {
      "text/html": [
       "<div>\n",
       "<style scoped>\n",
       "    .dataframe tbody tr th:only-of-type {\n",
       "        vertical-align: middle;\n",
       "    }\n",
       "\n",
       "    .dataframe tbody tr th {\n",
       "        vertical-align: top;\n",
       "    }\n",
       "\n",
       "    .dataframe thead th {\n",
       "        text-align: right;\n",
       "    }\n",
       "</style>\n",
       "<table border=\"1\" class=\"dataframe\">\n",
       "  <thead>\n",
       "    <tr style=\"text-align: right;\">\n",
       "      <th></th>\n",
       "      <th>id</th>\n",
       "      <th>comment</th>\n",
       "      <th>label</th>\n",
       "    </tr>\n",
       "  </thead>\n",
       "  <tbody>\n",
       "    <tr>\n",
       "      <th>14261</th>\n",
       "      <td>train_014261</td>\n",
       "      <td>Chất lượng sản phẩm tuyệt vời Chất lượng sản ...</td>\n",
       "      <td>0</td>\n",
       "    </tr>\n",
       "    <tr>\n",
       "      <th>29626</th>\n",
       "      <td>foody_13539</td>\n",
       "      <td>Gà rán của Texas thì khỏi bàn r , gà miếng bự ...</td>\n",
       "      <td>0</td>\n",
       "    </tr>\n",
       "    <tr>\n",
       "      <th>22567</th>\n",
       "      <td>foody_6480</td>\n",
       "      <td>Nhân viên ở đây siêu dễ thươngg , đang có km m...</td>\n",
       "      <td>0</td>\n",
       "    </tr>\n",
       "    <tr>\n",
       "      <th>31975</th>\n",
       "      <td>foody_15888</td>\n",
       "      <td>Sáng 8h , vào quán , 2 nhân viên ko 1 nụ cười ...</td>\n",
       "      <td>1</td>\n",
       "    </tr>\n",
       "    <tr>\n",
       "      <th>10483</th>\n",
       "      <td>train_010483</td>\n",
       "      <td>Ko kẹp đc. Rụng cả mi thật</td>\n",
       "      <td>1</td>\n",
       "    </tr>\n",
       "  </tbody>\n",
       "</table>\n",
       "</div>"
      ],
      "text/plain": [
       "                 id                                            comment  label\n",
       "14261  train_014261   Chất lượng sản phẩm tuyệt vời Chất lượng sản ...      0\n",
       "29626   foody_13539  Gà rán của Texas thì khỏi bàn r , gà miếng bự ...      0\n",
       "22567    foody_6480  Nhân viên ở đây siêu dễ thươngg , đang có km m...      0\n",
       "31975   foody_15888  Sáng 8h , vào quán , 2 nhân viên ko 1 nụ cười ...      1\n",
       "10483  train_010483                         Ko kẹp đc. Rụng cả mi thật      1"
      ]
     },
     "execution_count": 4,
     "metadata": {},
     "output_type": "execute_result"
    }
   ],
   "source": [
    "train_df.head()"
   ]
  },
  {
   "cell_type": "code",
   "execution_count": 5,
   "metadata": {},
   "outputs": [
    {
     "data": {
      "text/html": [
       "<div>\n",
       "<style scoped>\n",
       "    .dataframe tbody tr th:only-of-type {\n",
       "        vertical-align: middle;\n",
       "    }\n",
       "\n",
       "    .dataframe tbody tr th {\n",
       "        vertical-align: top;\n",
       "    }\n",
       "\n",
       "    .dataframe thead th {\n",
       "        text-align: right;\n",
       "    }\n",
       "</style>\n",
       "<table border=\"1\" class=\"dataframe\">\n",
       "  <thead>\n",
       "    <tr style=\"text-align: right;\">\n",
       "      <th></th>\n",
       "      <th>id</th>\n",
       "      <th>comment</th>\n",
       "    </tr>\n",
       "  </thead>\n",
       "  <tbody>\n",
       "    <tr>\n",
       "      <th>0</th>\n",
       "      <td>test_000000</td>\n",
       "      <td>Chưa dùng thử nên chưa biết</td>\n",
       "    </tr>\n",
       "    <tr>\n",
       "      <th>1</th>\n",
       "      <td>test_000001</td>\n",
       "      <td>Không đáng tiềnVì ngay đợt sale nên mới mua n...</td>\n",
       "    </tr>\n",
       "    <tr>\n",
       "      <th>2</th>\n",
       "      <td>test_000002</td>\n",
       "      <td>Cám ơn shop. Đóng gói sản phẩm rất đẹp và chắc...</td>\n",
       "    </tr>\n",
       "    <tr>\n",
       "      <th>3</th>\n",
       "      <td>test_000003</td>\n",
       "      <td>Vải đẹp.phom oki luôn.quá ưng</td>\n",
       "    </tr>\n",
       "    <tr>\n",
       "      <th>4</th>\n",
       "      <td>test_000004</td>\n",
       "      <td>Chuẩn hàng đóng gói đẹp</td>\n",
       "    </tr>\n",
       "  </tbody>\n",
       "</table>\n",
       "</div>"
      ],
      "text/plain": [
       "            id                                            comment\n",
       "0  test_000000                        Chưa dùng thử nên chưa biết\n",
       "1  test_000001   Không đáng tiềnVì ngay đợt sale nên mới mua n...\n",
       "2  test_000002  Cám ơn shop. Đóng gói sản phẩm rất đẹp và chắc...\n",
       "3  test_000003                      Vải đẹp.phom oki luôn.quá ưng\n",
       "4  test_000004                            Chuẩn hàng đóng gói đẹp"
      ]
     },
     "execution_count": 5,
     "metadata": {},
     "output_type": "execute_result"
    }
   ],
   "source": [
    "test_df.head()"
   ]
  },
  {
   "cell_type": "markdown",
   "metadata": {},
   "source": [
    "### Utils extract emoji sentiments"
   ]
  },
  {
   "cell_type": "code",
   "execution_count": 2,
   "metadata": {},
   "outputs": [],
   "source": [
    "def extract_emojis(str):\n",
    "    return [c for c in str if c in emoji.UNICODE_EMOJI]\n",
    "def sentiment_emojis(sentence):\n",
    "    emojis = extract_emojis(sentence)\n",
    "    result = [0,0,0,0]\n",
    "    if len(emojis) == 0:\n",
    "        return result\n",
    "    for icon in emojis:\n",
    "        sen_dict = analyzer_emoji.polarity_scores(icon)\n",
    "        sen = [sen_dict['neg'],sen_dict['neu'],sen_dict['pos'],sen_dict['compound']]\n",
    "        result = [result[i] + sen[i] for i in range(4)]\n",
    "    return [result[i] / len(emojis) for i in range(4)]\n",
    "def sentiment_emojis_row(row):\n",
    "    comment = row['comment']\n",
    "    sen_comment = sentiment_emojis(comment)\n",
    "    \n",
    "    row['emoji_neg'] = sen_comment[0]\n",
    "    row['emoji_neu'] = sen_comment[1]\n",
    "    row['emoji_pos'] = sen_comment[2]\n",
    "    row['emoji_compound'] = sen_comment[3]\n",
    "    \n",
    "    return row"
   ]
  },
  {
   "cell_type": "markdown",
   "metadata": {},
   "source": [
    "## Create features"
   ]
  },
  {
   "cell_type": "code",
   "execution_count": 9,
   "metadata": {},
   "outputs": [],
   "source": [
    "# concat to add statistic featute\n",
    "df = pd.concat([train_df, test_df], axis=0, sort=True)"
   ]
  },
  {
   "cell_type": "markdown",
   "metadata": {},
   "source": [
    "### Statistic features"
   ]
  },
  {
   "cell_type": "code",
   "execution_count": 13,
   "metadata": {},
   "outputs": [],
   "source": [
    "# Fill none value\n",
    "df['comment'] = df['comment'].astype(str).fillna(' ')\n",
    "# Lower case comment\n",
    "df['comment'] = df['comment'].str.lower()\n",
    "# Add num words of comment as feature\n",
    "df['num_words'] = df['comment'].apply(lambda s: len(s.split()))\n",
    "# Add num words unique of comment as feature\n",
    "df['num_unique_words'] = df['comment'].apply(lambda s: len(set(w for w in s.split())))\n",
    "# Add num words unique per num words of comment as feature\n",
    "df['words_vs_unique'] = df['num_unique_words'] / df['num_words'] * 100\n",
    "# Add emojis features\n",
    "df = df.apply(sentiment_emojis_row, axis=1)"
   ]
  },
  {
   "cell_type": "code",
   "execution_count": 14,
   "metadata": {},
   "outputs": [],
   "source": [
    "# recover train set test set as before\n",
    "train_df = df[~df['label'].isnull()]\n",
    "test_df = df[df['label'].isnull()]\n",
    "y_train = train_df['label'].values"
   ]
  },
  {
   "cell_type": "code",
   "execution_count": 19,
   "metadata": {},
   "outputs": [
    {
     "name": "stdout",
     "output_type": "stream",
     "text": [
      "['num_words', 'num_unique_words', 'words_vs_unique', 'emoji_neg', 'emoji_neu', 'emoji_pos', 'emoji_compound']\n",
      "(46087, 7) (10981, 7)\n"
     ]
    }
   ],
   "source": [
    "# Just keep statistic feature to process by model\n",
    "EXCLUED_COLS = ['id', 'comment', 'label']\n",
    "static_cols = [c for c in train_df.columns if not c in EXCLUED_COLS]\n",
    "print(static_cols)\n",
    "X_train_static = train_df[static_cols].values\n",
    "X_test_static = test_df[static_cols].values\n",
    "print(X_train_static.shape, X_test_static.shape)"
   ]
  },
  {
   "cell_type": "markdown",
   "metadata": {},
   "source": [
    "### Sent2Vec using tf-idf"
   ]
  },
  {
   "cell_type": "code",
   "execution_count": 21,
   "metadata": {},
   "outputs": [],
   "source": [
    "tfidf = TfidfVectorizer(\n",
    "    min_df = 5, \n",
    "    max_df = 0.8, \n",
    "    max_features=10000,\n",
    "    sublinear_tf=True\n",
    ")"
   ]
  },
  {
   "cell_type": "code",
   "execution_count": 22,
   "metadata": {},
   "outputs": [],
   "source": [
    "# make tf-idf model and transform\n",
    "train_comments = train_df['comment'].values\n",
    "test_comments = test_df['comment'].values\n",
    "X_train_tfidf = tfidf.fit_transform(train_comments)\n",
    "X_test_tfidf = tfidf.transform(test_comments)"
   ]
  },
  {
   "cell_type": "code",
   "execution_count": 29,
   "metadata": {},
   "outputs": [],
   "source": [
    "# save tf-idf model\n",
    "with open('vectorizer.pk', 'wb') as fin:\n",
    "    pickle.dump(tfidf, fin)"
   ]
  },
  {
   "cell_type": "code",
   "execution_count": 32,
   "metadata": {},
   "outputs": [],
   "source": [
    "# modeltf = pickle.load(open(\"./vectorizer.pk\", \"rb\" ))"
   ]
  },
  {
   "cell_type": "markdown",
   "metadata": {},
   "source": [
    "### Combine statistic and sent2vec feature"
   ]
  },
  {
   "cell_type": "code",
   "execution_count": 54,
   "metadata": {},
   "outputs": [],
   "source": [
    "X_train = hstack([X_train_tfidf, csr_matrix(X_train_static)]).tocsr()\n",
    "X_test = hstack([X_test_tfidf, csr_matrix(X_test_static)]).tocsr()"
   ]
  },
  {
   "cell_type": "code",
   "execution_count": 58,
   "metadata": {},
   "outputs": [],
   "source": [
    "# Because test set don't have label, split train set for evaluate model\n",
    "X_train_split, X_valid, y_train_split, y_valid = train_test_split(X_train, y_train, test_size=0.1)"
   ]
  },
  {
   "cell_type": "markdown",
   "metadata": {},
   "source": [
    "## Train model"
   ]
  },
  {
   "cell_type": "code",
   "execution_count": 69,
   "metadata": {},
   "outputs": [],
   "source": [
    "param = {'num_leaves':100, 'num_trees':300, 'objective':'binary', \"max_bin\":255, \"learning_rate\":0.1, \"device\" : \"gpu\", \"is_unbalance\": True}"
   ]
  },
  {
   "cell_type": "code",
   "execution_count": 70,
   "metadata": {},
   "outputs": [],
   "source": [
    "train_data = lgb.Dataset(X_train_split, y_train_split)\n",
    "valid_data = lgb.Dataset(X_valid, y_valid)"
   ]
  },
  {
   "cell_type": "code",
   "execution_count": 71,
   "metadata": {},
   "outputs": [
    {
     "name": "stderr",
     "output_type": "stream",
     "text": [
      "/home/nguyenbinh/anaconda3/lib/python3.6/site-packages/lightgbm/engine.py:118: UserWarning: Found `num_trees` in params. Will use it instead of argument\n",
      "  warnings.warn(\"Found `{}` in params. Will use it instead of argument\".format(alias))\n"
     ]
    },
    {
     "name": "stdout",
     "output_type": "stream",
     "text": [
      "[1]\tvalid_0's binary_logloss: 0.654694\n",
      "[2]\tvalid_0's binary_logloss: 0.622024\n",
      "[3]\tvalid_0's binary_logloss: 0.594908\n",
      "[4]\tvalid_0's binary_logloss: 0.572158\n",
      "[5]\tvalid_0's binary_logloss: 0.551032\n",
      "[6]\tvalid_0's binary_logloss: 0.53302\n",
      "[7]\tvalid_0's binary_logloss: 0.517216\n",
      "[8]\tvalid_0's binary_logloss: 0.502591\n",
      "[9]\tvalid_0's binary_logloss: 0.490065\n",
      "[10]\tvalid_0's binary_logloss: 0.477383\n",
      "[11]\tvalid_0's binary_logloss: 0.466669\n",
      "[12]\tvalid_0's binary_logloss: 0.456832\n",
      "[13]\tvalid_0's binary_logloss: 0.446664\n",
      "[14]\tvalid_0's binary_logloss: 0.438123\n",
      "[15]\tvalid_0's binary_logloss: 0.430772\n",
      "[16]\tvalid_0's binary_logloss: 0.423855\n",
      "[17]\tvalid_0's binary_logloss: 0.416563\n",
      "[18]\tvalid_0's binary_logloss: 0.410406\n",
      "[19]\tvalid_0's binary_logloss: 0.404737\n",
      "[20]\tvalid_0's binary_logloss: 0.399116\n",
      "[21]\tvalid_0's binary_logloss: 0.39366\n",
      "[22]\tvalid_0's binary_logloss: 0.388729\n",
      "[23]\tvalid_0's binary_logloss: 0.383663\n",
      "[24]\tvalid_0's binary_logloss: 0.379357\n",
      "[25]\tvalid_0's binary_logloss: 0.375744\n",
      "[26]\tvalid_0's binary_logloss: 0.371671\n",
      "[27]\tvalid_0's binary_logloss: 0.367735\n",
      "[28]\tvalid_0's binary_logloss: 0.364302\n",
      "[29]\tvalid_0's binary_logloss: 0.36045\n",
      "[30]\tvalid_0's binary_logloss: 0.357499\n",
      "[31]\tvalid_0's binary_logloss: 0.354215\n",
      "[32]\tvalid_0's binary_logloss: 0.350723\n",
      "[33]\tvalid_0's binary_logloss: 0.348682\n",
      "[34]\tvalid_0's binary_logloss: 0.346107\n",
      "[35]\tvalid_0's binary_logloss: 0.343984\n",
      "[36]\tvalid_0's binary_logloss: 0.341053\n",
      "[37]\tvalid_0's binary_logloss: 0.338651\n",
      "[38]\tvalid_0's binary_logloss: 0.336351\n",
      "[39]\tvalid_0's binary_logloss: 0.334471\n",
      "[40]\tvalid_0's binary_logloss: 0.33255\n",
      "[41]\tvalid_0's binary_logloss: 0.330643\n",
      "[42]\tvalid_0's binary_logloss: 0.328988\n",
      "[43]\tvalid_0's binary_logloss: 0.327505\n",
      "[44]\tvalid_0's binary_logloss: 0.32557\n",
      "[45]\tvalid_0's binary_logloss: 0.323912\n",
      "[46]\tvalid_0's binary_logloss: 0.322187\n",
      "[47]\tvalid_0's binary_logloss: 0.321248\n",
      "[48]\tvalid_0's binary_logloss: 0.319904\n",
      "[49]\tvalid_0's binary_logloss: 0.318759\n",
      "[50]\tvalid_0's binary_logloss: 0.317823\n",
      "[51]\tvalid_0's binary_logloss: 0.316655\n",
      "[52]\tvalid_0's binary_logloss: 0.315377\n",
      "[53]\tvalid_0's binary_logloss: 0.314441\n",
      "[54]\tvalid_0's binary_logloss: 0.313155\n",
      "[55]\tvalid_0's binary_logloss: 0.311998\n",
      "[56]\tvalid_0's binary_logloss: 0.311282\n",
      "[57]\tvalid_0's binary_logloss: 0.310009\n",
      "[58]\tvalid_0's binary_logloss: 0.309132\n",
      "[59]\tvalid_0's binary_logloss: 0.308256\n",
      "[60]\tvalid_0's binary_logloss: 0.307207\n",
      "[61]\tvalid_0's binary_logloss: 0.306258\n",
      "[62]\tvalid_0's binary_logloss: 0.305056\n",
      "[63]\tvalid_0's binary_logloss: 0.304042\n",
      "[64]\tvalid_0's binary_logloss: 0.303355\n",
      "[65]\tvalid_0's binary_logloss: 0.302613\n",
      "[66]\tvalid_0's binary_logloss: 0.301785\n",
      "[67]\tvalid_0's binary_logloss: 0.300904\n",
      "[68]\tvalid_0's binary_logloss: 0.30034\n",
      "[69]\tvalid_0's binary_logloss: 0.299741\n",
      "[70]\tvalid_0's binary_logloss: 0.299014\n",
      "[71]\tvalid_0's binary_logloss: 0.297988\n",
      "[72]\tvalid_0's binary_logloss: 0.297571\n",
      "[73]\tvalid_0's binary_logloss: 0.297067\n",
      "[74]\tvalid_0's binary_logloss: 0.296273\n",
      "[75]\tvalid_0's binary_logloss: 0.295672\n",
      "[76]\tvalid_0's binary_logloss: 0.29466\n",
      "[77]\tvalid_0's binary_logloss: 0.293969\n",
      "[78]\tvalid_0's binary_logloss: 0.293441\n",
      "[79]\tvalid_0's binary_logloss: 0.29275\n",
      "[80]\tvalid_0's binary_logloss: 0.292164\n",
      "[81]\tvalid_0's binary_logloss: 0.291655\n",
      "[82]\tvalid_0's binary_logloss: 0.291125\n",
      "[83]\tvalid_0's binary_logloss: 0.290814\n",
      "[84]\tvalid_0's binary_logloss: 0.290415\n",
      "[85]\tvalid_0's binary_logloss: 0.290063\n",
      "[86]\tvalid_0's binary_logloss: 0.289619\n",
      "[87]\tvalid_0's binary_logloss: 0.289381\n",
      "[88]\tvalid_0's binary_logloss: 0.289255\n",
      "[89]\tvalid_0's binary_logloss: 0.288636\n",
      "[90]\tvalid_0's binary_logloss: 0.288289\n",
      "[91]\tvalid_0's binary_logloss: 0.287825\n",
      "[92]\tvalid_0's binary_logloss: 0.287555\n",
      "[93]\tvalid_0's binary_logloss: 0.286696\n",
      "[94]\tvalid_0's binary_logloss: 0.286268\n",
      "[95]\tvalid_0's binary_logloss: 0.286071\n",
      "[96]\tvalid_0's binary_logloss: 0.285619\n",
      "[97]\tvalid_0's binary_logloss: 0.285199\n",
      "[98]\tvalid_0's binary_logloss: 0.285122\n",
      "[99]\tvalid_0's binary_logloss: 0.284994\n",
      "[100]\tvalid_0's binary_logloss: 0.284779\n",
      "[101]\tvalid_0's binary_logloss: 0.284658\n",
      "[102]\tvalid_0's binary_logloss: 0.28421\n",
      "[103]\tvalid_0's binary_logloss: 0.283869\n",
      "[104]\tvalid_0's binary_logloss: 0.283864\n",
      "[105]\tvalid_0's binary_logloss: 0.283627\n",
      "[106]\tvalid_0's binary_logloss: 0.283486\n",
      "[107]\tvalid_0's binary_logloss: 0.283284\n",
      "[108]\tvalid_0's binary_logloss: 0.283115\n",
      "[109]\tvalid_0's binary_logloss: 0.282882\n",
      "[110]\tvalid_0's binary_logloss: 0.282665\n",
      "[111]\tvalid_0's binary_logloss: 0.28283\n",
      "[112]\tvalid_0's binary_logloss: 0.282578\n",
      "[113]\tvalid_0's binary_logloss: 0.282151\n",
      "[114]\tvalid_0's binary_logloss: 0.282117\n",
      "[115]\tvalid_0's binary_logloss: 0.282049\n",
      "[116]\tvalid_0's binary_logloss: 0.281666\n",
      "[117]\tvalid_0's binary_logloss: 0.281566\n",
      "[118]\tvalid_0's binary_logloss: 0.281425\n",
      "[119]\tvalid_0's binary_logloss: 0.281333\n",
      "[120]\tvalid_0's binary_logloss: 0.28129\n",
      "[121]\tvalid_0's binary_logloss: 0.281253\n",
      "[122]\tvalid_0's binary_logloss: 0.280998\n",
      "[123]\tvalid_0's binary_logloss: 0.280716\n",
      "[124]\tvalid_0's binary_logloss: 0.28048\n",
      "[125]\tvalid_0's binary_logloss: 0.280479\n",
      "[126]\tvalid_0's binary_logloss: 0.280343\n",
      "[127]\tvalid_0's binary_logloss: 0.280284\n",
      "[128]\tvalid_0's binary_logloss: 0.280168\n",
      "[129]\tvalid_0's binary_logloss: 0.279913\n",
      "[130]\tvalid_0's binary_logloss: 0.279632\n",
      "[131]\tvalid_0's binary_logloss: 0.279399\n",
      "[132]\tvalid_0's binary_logloss: 0.279158\n",
      "[133]\tvalid_0's binary_logloss: 0.278796\n",
      "[134]\tvalid_0's binary_logloss: 0.278835\n",
      "[135]\tvalid_0's binary_logloss: 0.27853\n",
      "[136]\tvalid_0's binary_logloss: 0.278558\n",
      "[137]\tvalid_0's binary_logloss: 0.27833\n",
      "[138]\tvalid_0's binary_logloss: 0.278144\n",
      "[139]\tvalid_0's binary_logloss: 0.278156\n",
      "[140]\tvalid_0's binary_logloss: 0.27816\n",
      "[141]\tvalid_0's binary_logloss: 0.278081\n",
      "[142]\tvalid_0's binary_logloss: 0.27777\n",
      "[143]\tvalid_0's binary_logloss: 0.277637\n",
      "[144]\tvalid_0's binary_logloss: 0.277401\n",
      "[145]\tvalid_0's binary_logloss: 0.277453\n",
      "[146]\tvalid_0's binary_logloss: 0.277481\n",
      "[147]\tvalid_0's binary_logloss: 0.277396\n",
      "[148]\tvalid_0's binary_logloss: 0.277531\n",
      "[149]\tvalid_0's binary_logloss: 0.277471\n",
      "[150]\tvalid_0's binary_logloss: 0.277442\n",
      "[151]\tvalid_0's binary_logloss: 0.277271\n",
      "[152]\tvalid_0's binary_logloss: 0.277126\n",
      "[153]\tvalid_0's binary_logloss: 0.277299\n",
      "[154]\tvalid_0's binary_logloss: 0.277297\n",
      "[155]\tvalid_0's binary_logloss: 0.277319\n",
      "[156]\tvalid_0's binary_logloss: 0.277274\n",
      "[157]\tvalid_0's binary_logloss: 0.277266\n",
      "[158]\tvalid_0's binary_logloss: 0.277386\n",
      "[159]\tvalid_0's binary_logloss: 0.277223\n",
      "[160]\tvalid_0's binary_logloss: 0.277018\n",
      "[161]\tvalid_0's binary_logloss: 0.276925\n",
      "[162]\tvalid_0's binary_logloss: 0.276669\n",
      "[163]\tvalid_0's binary_logloss: 0.276548\n",
      "[164]\tvalid_0's binary_logloss: 0.27661\n",
      "[165]\tvalid_0's binary_logloss: 0.276632\n",
      "[166]\tvalid_0's binary_logloss: 0.276444\n",
      "[167]\tvalid_0's binary_logloss: 0.276478\n",
      "[168]\tvalid_0's binary_logloss: 0.276382\n",
      "[169]\tvalid_0's binary_logloss: 0.275999\n",
      "[170]\tvalid_0's binary_logloss: 0.275949\n",
      "[171]\tvalid_0's binary_logloss: 0.275873\n",
      "[172]\tvalid_0's binary_logloss: 0.275663\n",
      "[173]\tvalid_0's binary_logloss: 0.275518\n",
      "[174]\tvalid_0's binary_logloss: 0.275468\n",
      "[175]\tvalid_0's binary_logloss: 0.275525\n",
      "[176]\tvalid_0's binary_logloss: 0.275395\n",
      "[177]\tvalid_0's binary_logloss: 0.275379\n",
      "[178]\tvalid_0's binary_logloss: 0.275583\n",
      "[179]\tvalid_0's binary_logloss: 0.27556\n",
      "[180]\tvalid_0's binary_logloss: 0.275736\n",
      "[181]\tvalid_0's binary_logloss: 0.275685\n",
      "[182]\tvalid_0's binary_logloss: 0.275379\n",
      "[183]\tvalid_0's binary_logloss: 0.275474\n",
      "[184]\tvalid_0's binary_logloss: 0.275583\n",
      "[185]\tvalid_0's binary_logloss: 0.275889\n",
      "[186]\tvalid_0's binary_logloss: 0.276008\n",
      "[187]\tvalid_0's binary_logloss: 0.276022\n",
      "[188]\tvalid_0's binary_logloss: 0.276077\n",
      "[189]\tvalid_0's binary_logloss: 0.276058\n",
      "[190]\tvalid_0's binary_logloss: 0.275909\n",
      "[191]\tvalid_0's binary_logloss: 0.275821\n",
      "[192]\tvalid_0's binary_logloss: 0.275579\n",
      "[193]\tvalid_0's binary_logloss: 0.275708\n",
      "[194]\tvalid_0's binary_logloss: 0.275534\n",
      "[195]\tvalid_0's binary_logloss: 0.275625\n",
      "[196]\tvalid_0's binary_logloss: 0.275434\n",
      "[197]\tvalid_0's binary_logloss: 0.275552\n",
      "[198]\tvalid_0's binary_logloss: 0.275612\n",
      "[199]\tvalid_0's binary_logloss: 0.275718\n",
      "[200]\tvalid_0's binary_logloss: 0.275546\n",
      "[201]\tvalid_0's binary_logloss: 0.275325\n",
      "[202]\tvalid_0's binary_logloss: 0.275308\n",
      "[203]\tvalid_0's binary_logloss: 0.275357\n",
      "[204]\tvalid_0's binary_logloss: 0.275468\n",
      "[205]\tvalid_0's binary_logloss: 0.275524\n",
      "[206]\tvalid_0's binary_logloss: 0.275439\n",
      "[207]\tvalid_0's binary_logloss: 0.275556\n",
      "[208]\tvalid_0's binary_logloss: 0.275461\n",
      "[209]\tvalid_0's binary_logloss: 0.275583\n",
      "[210]\tvalid_0's binary_logloss: 0.27552\n",
      "[211]\tvalid_0's binary_logloss: 0.275581\n",
      "[212]\tvalid_0's binary_logloss: 0.275583\n",
      "[213]\tvalid_0's binary_logloss: 0.275684\n",
      "[214]\tvalid_0's binary_logloss: 0.275525\n",
      "[215]\tvalid_0's binary_logloss: 0.275596\n",
      "[216]\tvalid_0's binary_logloss: 0.275616\n",
      "[217]\tvalid_0's binary_logloss: 0.275672\n",
      "[218]\tvalid_0's binary_logloss: 0.275499\n",
      "[219]\tvalid_0's binary_logloss: 0.275506\n",
      "[220]\tvalid_0's binary_logloss: 0.275439\n",
      "[221]\tvalid_0's binary_logloss: 0.275518\n",
      "[222]\tvalid_0's binary_logloss: 0.275385\n",
      "[223]\tvalid_0's binary_logloss: 0.275607\n",
      "[224]\tvalid_0's binary_logloss: 0.275488\n",
      "[225]\tvalid_0's binary_logloss: 0.275515\n",
      "[226]\tvalid_0's binary_logloss: 0.275457\n",
      "[227]\tvalid_0's binary_logloss: 0.275548\n",
      "[228]\tvalid_0's binary_logloss: 0.275682\n",
      "[229]\tvalid_0's binary_logloss: 0.275651\n",
      "[230]\tvalid_0's binary_logloss: 0.275473\n",
      "[231]\tvalid_0's binary_logloss: 0.275678\n",
      "[232]\tvalid_0's binary_logloss: 0.275817\n",
      "[233]\tvalid_0's binary_logloss: 0.27607\n",
      "[234]\tvalid_0's binary_logloss: 0.276111\n",
      "[235]\tvalid_0's binary_logloss: 0.275995\n",
      "[236]\tvalid_0's binary_logloss: 0.276024\n",
      "[237]\tvalid_0's binary_logloss: 0.276023\n",
      "[238]\tvalid_0's binary_logloss: 0.276065\n",
      "[239]\tvalid_0's binary_logloss: 0.276101\n",
      "[240]\tvalid_0's binary_logloss: 0.276\n",
      "[241]\tvalid_0's binary_logloss: 0.275879\n",
      "[242]\tvalid_0's binary_logloss: 0.27589\n",
      "[243]\tvalid_0's binary_logloss: 0.275872\n",
      "[244]\tvalid_0's binary_logloss: 0.27599\n",
      "[245]\tvalid_0's binary_logloss: 0.276097\n",
      "[246]\tvalid_0's binary_logloss: 0.276162\n",
      "[247]\tvalid_0's binary_logloss: 0.276183\n",
      "[248]\tvalid_0's binary_logloss: 0.276249\n",
      "[249]\tvalid_0's binary_logloss: 0.276429\n",
      "[250]\tvalid_0's binary_logloss: 0.276453\n",
      "[251]\tvalid_0's binary_logloss: 0.276698\n",
      "[252]\tvalid_0's binary_logloss: 0.276746\n",
      "[253]\tvalid_0's binary_logloss: 0.276878\n",
      "[254]\tvalid_0's binary_logloss: 0.277026\n",
      "[255]\tvalid_0's binary_logloss: 0.276943\n",
      "[256]\tvalid_0's binary_logloss: 0.276861\n",
      "[257]\tvalid_0's binary_logloss: 0.276841\n",
      "[258]\tvalid_0's binary_logloss: 0.276859\n",
      "[259]\tvalid_0's binary_logloss: 0.276857\n",
      "[260]\tvalid_0's binary_logloss: 0.27679\n",
      "[261]\tvalid_0's binary_logloss: 0.276768\n",
      "[262]\tvalid_0's binary_logloss: 0.276874\n",
      "[263]\tvalid_0's binary_logloss: 0.276921\n",
      "[264]\tvalid_0's binary_logloss: 0.276941\n",
      "[265]\tvalid_0's binary_logloss: 0.276864\n",
      "[266]\tvalid_0's binary_logloss: 0.276803\n",
      "[267]\tvalid_0's binary_logloss: 0.277018\n",
      "[268]\tvalid_0's binary_logloss: 0.27722\n",
      "[269]\tvalid_0's binary_logloss: 0.277405\n",
      "[270]\tvalid_0's binary_logloss: 0.277531\n",
      "[271]\tvalid_0's binary_logloss: 0.277516\n",
      "[272]\tvalid_0's binary_logloss: 0.27749\n",
      "[273]\tvalid_0's binary_logloss: 0.277742\n",
      "[274]\tvalid_0's binary_logloss: 0.277889\n",
      "[275]\tvalid_0's binary_logloss: 0.277894\n",
      "[276]\tvalid_0's binary_logloss: 0.277913\n",
      "[277]\tvalid_0's binary_logloss: 0.277918\n",
      "[278]\tvalid_0's binary_logloss: 0.277856\n",
      "[279]\tvalid_0's binary_logloss: 0.277949\n",
      "[280]\tvalid_0's binary_logloss: 0.277773\n",
      "[281]\tvalid_0's binary_logloss: 0.277918\n",
      "[282]\tvalid_0's binary_logloss: 0.278022\n",
      "[283]\tvalid_0's binary_logloss: 0.278056\n",
      "[284]\tvalid_0's binary_logloss: 0.278005\n",
      "[285]\tvalid_0's binary_logloss: 0.277982\n",
      "[286]\tvalid_0's binary_logloss: 0.278049\n",
      "[287]\tvalid_0's binary_logloss: 0.278366\n",
      "[288]\tvalid_0's binary_logloss: 0.278367\n",
      "[289]\tvalid_0's binary_logloss: 0.278443\n",
      "[290]\tvalid_0's binary_logloss: 0.27846\n",
      "[291]\tvalid_0's binary_logloss: 0.278762\n",
      "[292]\tvalid_0's binary_logloss: 0.278999\n",
      "[293]\tvalid_0's binary_logloss: 0.279005\n",
      "[294]\tvalid_0's binary_logloss: 0.278933\n",
      "[295]\tvalid_0's binary_logloss: 0.278934\n",
      "[296]\tvalid_0's binary_logloss: 0.2788\n",
      "[297]\tvalid_0's binary_logloss: 0.278961\n",
      "[298]\tvalid_0's binary_logloss: 0.279001\n",
      "[299]\tvalid_0's binary_logloss: 0.279246\n",
      "[300]\tvalid_0's binary_logloss: 0.279062\n",
      "accuracy: 0.8893469299197223\n"
     ]
    }
   ],
   "source": [
    "bst = lgb.train(param, train_data, num_boost_round=500, valid_sets=[valid_data])\n",
    "print(\"accuracy: {}\".format(accuracy_score(y_valid, 1*(bst.predict(X_valid)>0.5))))"
   ]
  },
  {
   "cell_type": "markdown",
   "metadata": {},
   "source": [
    "## Save model"
   ]
  },
  {
   "cell_type": "code",
   "execution_count": 73,
   "metadata": {},
   "outputs": [
    {
     "name": "stdout",
     "output_type": "stream",
     "text": [
      "Saving model...\n"
     ]
    },
    {
     "data": {
      "text/plain": [
       "<lightgbm.basic.Booster at 0x7efebd0282b0>"
      ]
     },
     "execution_count": 73,
     "metadata": {},
     "output_type": "execute_result"
    }
   ],
   "source": [
    "print('Saving model...')\n",
    "# save model to file\n",
    "bst.save_model('model_gbm_sentiment.txt')"
   ]
  },
  {
   "cell_type": "code",
   "execution_count": null,
   "metadata": {},
   "outputs": [],
   "source": []
  }
 ],
 "metadata": {
  "kernelspec": {
   "display_name": "Python 3",
   "language": "python",
   "name": "python3"
  },
  "language_info": {
   "codemirror_mode": {
    "name": "ipython",
    "version": 3
   },
   "file_extension": ".py",
   "mimetype": "text/x-python",
   "name": "python",
   "nbconvert_exporter": "python",
   "pygments_lexer": "ipython3",
   "version": "3.6.5"
  }
 },
 "nbformat": 4,
 "nbformat_minor": 2
}
